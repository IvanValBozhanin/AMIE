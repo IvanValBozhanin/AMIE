{
  "cells": [
    {
      "cell_type": "markdown",
      "id": "55eceada",
      "metadata": {},
      "source": [
        "# Config composition helper"
      ]
    },
    {
      "cell_type": "code",
      "execution_count": 45,
      "id": "9943501a",
      "metadata": {},
      "outputs": [
        {
          "name": "stdout",
          "output_type": "stream",
          "text": [
            "Hydra configs will be loaded from: /home/ivan-yoga-ubuntu/VSCodeProjects/AMIE/config\n"
          ]
        }
      ],
      "source": [
        "from __future__ import annotations\n",
        "\n",
        "from pathlib import Path\n",
        "\n",
        "from hydra import compose, initialize_config_dir\n",
        "from hydra.core.global_hydra import GlobalHydra\n",
        "\n",
        "\n",
        "def locate_config_dir() -> Path:\n",
        "    \"\"\"Return the nearest `config` directory relative to the current working directory.\"\"\"\n",
        "    candidates = [\n",
        "        Path.cwd() / \"config\",\n",
        "        Path.cwd().parent / \"config\",\n",
        "    ]\n",
        "    for candidate in candidates:\n",
        "        if candidate.is_dir():\n",
        "            return candidate\n",
        "    raise FileNotFoundError(\"Unable to locate a 'config' directory near the notebook.\")\n",
        "\n",
        "\n",
        "CONFIG_DIR = locate_config_dir()\n",
        "\n",
        "\n",
        "def load_config(config_name: str = \"config\", overrides: list[str] | None = None):\n",
        "    \"\"\"Compose a Hydra config without leaving the global state initialized between runs.\"\"\"\n",
        "    overrides = overrides or []\n",
        "    if GlobalHydra.instance().is_initialized():\n",
        "        GlobalHydra.instance().clear()\n",
        "    with initialize_config_dir(config_dir=str(CONFIG_DIR), job_name=\"notebook\"):\n",
        "        return compose(config_name=config_name, overrides=overrides)\n",
        "\n",
        "\n",
        "print(f\"Hydra configs will be loaded from: {CONFIG_DIR}\")"
      ]
    },
    {
      "cell_type": "code",
      "execution_count": 46,
      "id": "2f3fa4eb",
      "metadata": {},
      "outputs": [
        {
          "name": "stdout",
          "output_type": "stream",
          "text": [
            "{'backtest': {'initial_capital': 100000, 'slippage_bps': 5, 'fee_bps': 1, 'max_position_size': 1.0}}\n"
          ]
        },
        {
          "name": "stderr",
          "output_type": "stream",
          "text": [
            "/tmp/ipykernel_20526/1140843476.py:29: UserWarning: \n",
            "The version_base parameter is not specified.\n",
            "Please specify a compatability version level, or None.\n",
            "Will assume defaults for version 1.1\n",
            "  with initialize_config_dir(config_dir=str(CONFIG_DIR), job_name=\"notebook\"):\n"
          ]
        }
      ],
      "source": [
        "# Example usage (uncomment and adjust config_name / overrides as needed):\n",
        "\n",
        "cfg = load_config(config_name=\"backtest/default\", overrides=[])\n",
        "print(cfg)"
      ]
    },
    {
      "cell_type": "code",
      "execution_count": 47,
      "id": "9dcac791",
      "metadata": {},
      "outputs": [
        {
          "name": "stdout",
          "output_type": "stream",
          "text": [
            "data:\n",
            "  n_ticks: 10000\n",
            "  instruments:\n",
            "  - BTC\n",
            "  regimes:\n",
            "  - type: calm\n",
            "    duration: 2000\n",
            "    volatility: 0.01\n",
            "  - type: volatile\n",
            "    duration: 2000\n",
            "    volatility: 0.05\n",
            "model:\n",
            "  process_noise: 0.001\n",
            "  observation_noise: 0.01\n",
            "  warmup_period: 100\n",
            "backtest:\n",
            "  initial_capital: 100000\n",
            "  slippage_bps: 5\n",
            "  fee_bps: 1\n",
            "  max_position_size: 1.0\n",
            "run:\n",
            "  seed: 42\n",
            "  run_id: ???\n",
            "paths:\n",
            "  data_dir: data/\n",
            "  results_dir: results/\n",
            "\n",
            "✅ run.seed = 42\n"
          ]
        }
      ],
      "source": [
        "from hydra import initialize, compose\n",
        "from omegaconf import OmegaConf\n",
        "from hydra.core.global_hydra import GlobalHydra\n",
        "\n",
        "if GlobalHydra.instance().is_initialized():\n",
        "    GlobalHydra.instance().clear()\n",
        "\n",
        "with initialize(version_base=\"1.3\", config_path=\"../config\"):\n",
        "    cfg = compose(config_name=\"config\")\n",
        "\n",
        "print(OmegaConf.to_yaml(cfg))\n",
        "assert cfg.run.seed == 42\n",
        "print(\"✅ run.seed = 42\")\n"
      ]
    },
    {
      "cell_type": "code",
      "execution_count": 48,
      "id": "2e7d3690",
      "metadata": {},
      "outputs": [
        {
          "name": "stdout",
          "output_type": "stream",
          "text": [
            "--- COMPOSED CFG ---\n",
            "data:\n",
            "  n_ticks: 10000\n",
            "  instruments:\n",
            "  - BTC\n",
            "  regimes:\n",
            "  - type: calm\n",
            "    duration: 2000\n",
            "    volatility: 0.01\n",
            "  - type: volatile\n",
            "    duration: 2000\n",
            "    volatility: 0.05\n",
            "model:\n",
            "  process_noise: 0.001\n",
            "  observation_noise: 0.01\n",
            "  warmup_period: 100\n",
            "backtest:\n",
            "  initial_capital: 100000\n",
            "  slippage_bps: 5\n",
            "  fee_bps: 1\n",
            "  max_position_size: 1.0\n",
            "run:\n",
            "  seed: 42\n",
            "  run_id: ???\n",
            "paths:\n",
            "  data_dir: data/\n",
            "  results_dir: results/\n",
            "\n",
            "Top-level keys: ['data', 'model', 'backtest', 'run', 'paths']\n"
          ]
        }
      ],
      "source": [
        "from hydra import initialize, compose\n",
        "from hydra.core.global_hydra import GlobalHydra\n",
        "from omegaconf import OmegaConf\n",
        "\n",
        "if GlobalHydra.instance().is_initialized():\n",
        "    GlobalHydra.instance().clear()\n",
        "\n",
        "with initialize(version_base=\"1.3\", config_path=\"../config\"):\n",
        "    cfg = compose(config_name=\"config\")\n",
        "\n",
        "print(\"--- COMPOSED CFG ---\")\n",
        "print(OmegaConf.to_yaml(cfg))\n",
        "print(\"Top-level keys:\", list(cfg.keys()))\n"
      ]
    },
    {
      "cell_type": "code",
      "execution_count": 4,
      "id": "076a30b1",
      "metadata": {},
      "outputs": [
        {
          "name": "stdout",
          "output_type": "stream",
          "text": [
            "CWD: /home/ivan-yoga-ubuntu/VSCodeProjects/AMIE/src\n",
            "CONFIG_DIR: /home/ivan-yoga-ubuntu/VSCodeProjects/AMIE/config\n",
            "config.yaml exists? True\n",
            "data:\n",
            "  instrument: BTC-USD\n",
            "  regime_duration: 2000\n",
            "  regimes:\n",
            "  - volatility: 0.01\n",
            "    spread: 25.0\n",
            "    qty: 1.0\n",
            "  - volatility: 0.05\n",
            "    spread: 35.0\n",
            "    qty: 1.2\n",
            "  depth: 3\n",
            "  level_spread: 10.0\n",
            "  tick_interval_seconds: 1.0\n",
            "  n_ticks: 10000\n",
            "model:\n",
            "  process_noise: 0.001\n",
            "  observation_noise: 0.01\n",
            "  warmup_period: 100\n",
            "backtest:\n",
            "  initial_capital: 100000\n",
            "  slippage_bps: 5\n",
            "  fee_bps: 1\n",
            "  max_position_size: 1.0\n",
            "run:\n",
            "  seed: 42\n",
            "  run_id: ???\n",
            "paths:\n",
            "  data_dir: data/\n",
            "  results_dir: results/\n",
            "\n",
            "✅ run.seed == 42\n"
          ]
        }
      ],
      "source": [
        "from pathlib import Path\n",
        "from hydra.core.global_hydra import GlobalHydra\n",
        "from hydra import initialize_config_dir, compose\n",
        "from omegaconf import OmegaConf\n",
        "\n",
        "# 0) Point to the *absolute* config directory and verify the file exists\n",
        "CONFIG_DIR = (Path.cwd() / \"../config\").resolve()\n",
        "CONFIG_FILE = CONFIG_DIR / \"config.yaml\"\n",
        "print(\"CWD:\", Path.cwd())\n",
        "print(\"CONFIG_DIR:\", CONFIG_DIR)\n",
        "print(\"config.yaml exists?\", CONFIG_FILE.exists())\n",
        "assert CONFIG_FILE.exists(), f\"Missing: {CONFIG_FILE}\"\n",
        "\n",
        "# 1) Clear any previous Hydra singleton\n",
        "if GlobalHydra.instance().is_initialized():\n",
        "    GlobalHydra.instance().clear()\n",
        "\n",
        "# 2) Initialize using ABSOLUTE directory (this API allows it)\n",
        "with initialize_config_dir(version_base=\"1.3\", config_dir=str(CONFIG_DIR)):\n",
        "    cfg = compose(config_name=\"config\")  # looks for CONFIG_DIR/config.yaml\n",
        "\n",
        "# 3) Inspect\n",
        "print(OmegaConf.to_yaml(cfg) or \"<empty>\")\n",
        "# If your config.yaml has `defaults` and `_self_`, you should now see `run:` etc.\n",
        "# Optional sanity check:\n",
        "assert \"run\" in cfg and \"seed\" in cfg.run and cfg.run.seed == 42, f\"Got: {OmegaConf.to_yaml(cfg)}\"\n",
        "print(\"✅ run.seed == 42\")\n"
      ]
    },
    {
      "cell_type": "code",
      "execution_count": 3,
      "id": "fad8ff8d",
      "metadata": {},
      "outputs": [
        {
          "name": "stderr",
          "output_type": "stream",
          "text": [
            "{\"foo\": \"bar\", \"run_id\": \"eab3d233200849bd83b60abdd943c5ee\", \"timestamp\": \"2025-10-19T12:42:07.668226Z\", \"level\": \"info\", \"event\": \"test\"}\n",
            "{\"function\": \"slow_fn\", \"duration_ms\": 101.77513900089252, \"run_id\": \"eab3d233200849bd83b60abdd943c5ee\", \"timestamp\": \"2025-10-19T12:42:07.771052Z\", \"level\": \"info\", \"event\": \"profiled_function\"}\n"
          ]
        }
      ],
      "source": [
        "from amie.utils.logging import logger\n",
        "logger.info(\"test\", foo=\"bar\")  # Should print structured JSON\n",
        "\n",
        "from amie.utils.profiling import profile\n",
        "@profile()\n",
        "def slow_fn():\n",
        "    import time; time.sleep(0.1)\n",
        "\n",
        "slow_fn()  # Should log ~100ms"
      ]
    },
    {
      "cell_type": "code",
      "execution_count": 7,
      "id": "c6c774cc",
      "metadata": {},
      "outputs": [
        {
          "name": "stdout",
          "output_type": "stream",
          "text": [
            "SyntheticLOBGenerator is deterministic ✅\n"
          ]
        }
      ],
      "source": [
        "from amie.data.sources.synthetic_lob import SyntheticLOBGenerator\n",
        "\n",
        "gen = SyntheticLOBGenerator(seed=42, config=cfg.data)\n",
        "stream = list(gen.generate(int(cfg.data.n_ticks)))[:100]  # each item is (tick, lob)\n",
        "assert len(stream) == 100\n",
        "\n",
        "t0, lob0 = stream[0]\n",
        "assert t0.price > 0\n",
        "assert lob0.spread > 0\n",
        "\n",
        "# Determinism\n",
        "gen2 = SyntheticLOBGenerator(seed=42, config=cfg.data)\n",
        "stream2 = list(gen2.generate(int(cfg.data.n_ticks)))[:100]\n",
        "\n",
        "for (a_t, a_l), (b_t, b_l) in zip(stream, stream2):\n",
        "    assert a_t.ts == b_t.ts\n",
        "    assert a_t.price == b_t.price\n",
        "    assert a_t.qty == b_t.qty\n",
        "    assert a_t.side == b_t.side\n",
        "    assert a_l.spread == b_l.spread\n",
        "    assert a_l.bids[0] == b_l.bids[0]\n",
        "    assert a_l.asks[0] == b_l.asks[0]\n",
        "\n",
        "print(\"SyntheticLOBGenerator is deterministic ✅\")\n"
      ]
    },
    {
      "cell_type": "code",
      "execution_count": null,
      "id": "ae53cc62",
      "metadata": {},
      "outputs": [],
      "source": []
    }
  ],
  "metadata": {
    "kernelspec": {
      "display_name": "venv",
      "language": "python",
      "name": "python3"
    },
    "language_info": {
      "codemirror_mode": {
        "name": "ipython",
        "version": 3
      },
      "file_extension": ".py",
      "mimetype": "text/x-python",
      "name": "python",
      "nbconvert_exporter": "python",
      "pygments_lexer": "ipython3",
      "version": "3.12.3"
    }
  },
  "nbformat": 4,
  "nbformat_minor": 5
}
