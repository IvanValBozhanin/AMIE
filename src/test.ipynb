{
  "cells": [
    {
      "cell_type": "markdown",
      "id": "55eceada",
      "metadata": {},
      "source": [
        "# Config composition helper"
      ]
    },
    {
      "cell_type": "code",
      "execution_count": 45,
      "id": "9943501a",
      "metadata": {},
      "outputs": [
        {
          "name": "stdout",
          "output_type": "stream",
          "text": [
            "Hydra configs will be loaded from: /home/ivan-yoga-ubuntu/VSCodeProjects/AMIE/config\n"
          ]
        }
      ],
      "source": [
        "from __future__ import annotations\n",
        "\n",
        "from pathlib import Path\n",
        "\n",
        "from hydra import compose, initialize_config_dir\n",
        "from hydra.core.global_hydra import GlobalHydra\n",
        "\n",
        "\n",
        "def locate_config_dir() -> Path:\n",
        "    \"\"\"Return the nearest `config` directory relative to the current working directory.\"\"\"\n",
        "    candidates = [\n",
        "        Path.cwd() / \"config\",\n",
        "        Path.cwd().parent / \"config\",\n",
        "    ]\n",
        "    for candidate in candidates:\n",
        "        if candidate.is_dir():\n",
        "            return candidate\n",
        "    raise FileNotFoundError(\"Unable to locate a 'config' directory near the notebook.\")\n",
        "\n",
        "\n",
        "CONFIG_DIR = locate_config_dir()\n",
        "\n",
        "\n",
        "def load_config(config_name: str = \"config\", overrides: list[str] | None = None):\n",
        "    \"\"\"Compose a Hydra config without leaving the global state initialized between runs.\"\"\"\n",
        "    overrides = overrides or []\n",
        "    if GlobalHydra.instance().is_initialized():\n",
        "        GlobalHydra.instance().clear()\n",
        "    with initialize_config_dir(config_dir=str(CONFIG_DIR), job_name=\"notebook\"):\n",
        "        return compose(config_name=config_name, overrides=overrides)\n",
        "\n",
        "\n",
        "print(f\"Hydra configs will be loaded from: {CONFIG_DIR}\")"
      ]
    },
    {
      "cell_type": "code",
      "execution_count": 46,
      "id": "2f3fa4eb",
      "metadata": {},
      "outputs": [
        {
          "name": "stdout",
          "output_type": "stream",
          "text": [
            "{'backtest': {'initial_capital': 100000, 'slippage_bps': 5, 'fee_bps': 1, 'max_position_size': 1.0}}\n"
          ]
        },
        {
          "name": "stderr",
          "output_type": "stream",
          "text": [
            "/tmp/ipykernel_20526/1140843476.py:29: UserWarning: \n",
            "The version_base parameter is not specified.\n",
            "Please specify a compatability version level, or None.\n",
            "Will assume defaults for version 1.1\n",
            "  with initialize_config_dir(config_dir=str(CONFIG_DIR), job_name=\"notebook\"):\n"
          ]
        }
      ],
      "source": [
        "# Example usage (uncomment and adjust config_name / overrides as needed):\n",
        "\n",
        "cfg = load_config(config_name=\"backtest/default\", overrides=[])\n",
        "print(cfg)"
      ]
    },
    {
      "cell_type": "code",
      "execution_count": 47,
      "id": "9dcac791",
      "metadata": {},
      "outputs": [
        {
          "name": "stdout",
          "output_type": "stream",
          "text": [
            "data:\n",
            "  n_ticks: 10000\n",
            "  instruments:\n",
            "  - BTC\n",
            "  regimes:\n",
            "  - type: calm\n",
            "    duration: 2000\n",
            "    volatility: 0.01\n",
            "  - type: volatile\n",
            "    duration: 2000\n",
            "    volatility: 0.05\n",
            "model:\n",
            "  process_noise: 0.001\n",
            "  observation_noise: 0.01\n",
            "  warmup_period: 100\n",
            "backtest:\n",
            "  initial_capital: 100000\n",
            "  slippage_bps: 5\n",
            "  fee_bps: 1\n",
            "  max_position_size: 1.0\n",
            "run:\n",
            "  seed: 42\n",
            "  run_id: ???\n",
            "paths:\n",
            "  data_dir: data/\n",
            "  results_dir: results/\n",
            "\n",
            "✅ run.seed = 42\n"
          ]
        }
      ],
      "source": [
        "from hydra import initialize, compose\n",
        "from omegaconf import OmegaConf\n",
        "from hydra.core.global_hydra import GlobalHydra\n",
        "\n",
        "if GlobalHydra.instance().is_initialized():\n",
        "    GlobalHydra.instance().clear()\n",
        "\n",
        "with initialize(version_base=\"1.3\", config_path=\"../config\"):\n",
        "    cfg = compose(config_name=\"config\")\n",
        "\n",
        "print(OmegaConf.to_yaml(cfg))\n",
        "assert cfg.run.seed == 42\n",
        "print(\"✅ run.seed = 42\")\n"
      ]
    },
    {
      "cell_type": "code",
      "execution_count": 48,
      "id": "2e7d3690",
      "metadata": {},
      "outputs": [
        {
          "name": "stdout",
          "output_type": "stream",
          "text": [
            "--- COMPOSED CFG ---\n",
            "data:\n",
            "  n_ticks: 10000\n",
            "  instruments:\n",
            "  - BTC\n",
            "  regimes:\n",
            "  - type: calm\n",
            "    duration: 2000\n",
            "    volatility: 0.01\n",
            "  - type: volatile\n",
            "    duration: 2000\n",
            "    volatility: 0.05\n",
            "model:\n",
            "  process_noise: 0.001\n",
            "  observation_noise: 0.01\n",
            "  warmup_period: 100\n",
            "backtest:\n",
            "  initial_capital: 100000\n",
            "  slippage_bps: 5\n",
            "  fee_bps: 1\n",
            "  max_position_size: 1.0\n",
            "run:\n",
            "  seed: 42\n",
            "  run_id: ???\n",
            "paths:\n",
            "  data_dir: data/\n",
            "  results_dir: results/\n",
            "\n",
            "Top-level keys: ['data', 'model', 'backtest', 'run', 'paths']\n"
          ]
        }
      ],
      "source": [
        "from hydra import initialize, compose\n",
        "from hydra.core.global_hydra import GlobalHydra\n",
        "from omegaconf import OmegaConf\n",
        "\n",
        "if GlobalHydra.instance().is_initialized():\n",
        "    GlobalHydra.instance().clear()\n",
        "\n",
        "with initialize(version_base=\"1.3\", config_path=\"../config\"):\n",
        "    cfg = compose(config_name=\"config\")\n",
        "\n",
        "print(\"--- COMPOSED CFG ---\")\n",
        "print(OmegaConf.to_yaml(cfg))\n",
        "print(\"Top-level keys:\", list(cfg.keys()))\n"
      ]
    },
    {
      "cell_type": "code",
      "execution_count": 49,
      "id": "076a30b1",
      "metadata": {},
      "outputs": [
        {
          "name": "stdout",
          "output_type": "stream",
          "text": [
            "CWD: /home/ivan-yoga-ubuntu/VSCodeProjects/AMIE/src\n",
            "CONFIG_DIR: /home/ivan-yoga-ubuntu/VSCodeProjects/AMIE/config\n",
            "config.yaml exists? True\n",
            "data:\n",
            "  n_ticks: 10000\n",
            "  instruments:\n",
            "  - BTC\n",
            "  regimes:\n",
            "  - type: calm\n",
            "    duration: 2000\n",
            "    volatility: 0.01\n",
            "  - type: volatile\n",
            "    duration: 2000\n",
            "    volatility: 0.05\n",
            "model:\n",
            "  process_noise: 0.001\n",
            "  observation_noise: 0.01\n",
            "  warmup_period: 100\n",
            "backtest:\n",
            "  initial_capital: 100000\n",
            "  slippage_bps: 5\n",
            "  fee_bps: 1\n",
            "  max_position_size: 1.0\n",
            "run:\n",
            "  seed: 42\n",
            "  run_id: ???\n",
            "paths:\n",
            "  data_dir: data/\n",
            "  results_dir: results/\n",
            "\n",
            "✅ run.seed == 42\n"
          ]
        }
      ],
      "source": [
        "from pathlib import Path\n",
        "from hydra.core.global_hydra import GlobalHydra\n",
        "from hydra import initialize_config_dir, compose\n",
        "from omegaconf import OmegaConf\n",
        "\n",
        "# 0) Point to the *absolute* config directory and verify the file exists\n",
        "CONFIG_DIR = (Path.cwd() / \"../config\").resolve()\n",
        "CONFIG_FILE = CONFIG_DIR / \"config.yaml\"\n",
        "print(\"CWD:\", Path.cwd())\n",
        "print(\"CONFIG_DIR:\", CONFIG_DIR)\n",
        "print(\"config.yaml exists?\", CONFIG_FILE.exists())\n",
        "assert CONFIG_FILE.exists(), f\"Missing: {CONFIG_FILE}\"\n",
        "\n",
        "# 1) Clear any previous Hydra singleton\n",
        "if GlobalHydra.instance().is_initialized():\n",
        "    GlobalHydra.instance().clear()\n",
        "\n",
        "# 2) Initialize using ABSOLUTE directory (this API allows it)\n",
        "with initialize_config_dir(version_base=\"1.3\", config_dir=str(CONFIG_DIR)):\n",
        "    cfg = compose(config_name=\"config\")  # looks for CONFIG_DIR/config.yaml\n",
        "\n",
        "# 3) Inspect\n",
        "print(OmegaConf.to_yaml(cfg) or \"<empty>\")\n",
        "# If your config.yaml has `defaults` and `_self_`, you should now see `run:` etc.\n",
        "# Optional sanity check:\n",
        "assert \"run\" in cfg and \"seed\" in cfg.run and cfg.run.seed == 42, f\"Got: {OmegaConf.to_yaml(cfg)}\"\n",
        "print(\"✅ run.seed == 42\")\n"
      ]
    },
    {
      "cell_type": "code",
      "execution_count": null,
      "id": "fad8ff8d",
      "metadata": {},
      "outputs": [],
      "source": []
    }
  ],
  "metadata": {
    "kernelspec": {
      "display_name": "Python 3",
      "language": "python",
      "name": "python3"
    },
    "language_info": {
      "codemirror_mode": {
        "name": "ipython",
        "version": 3
      },
      "file_extension": ".py",
      "mimetype": "text/x-python",
      "name": "python",
      "nbconvert_exporter": "python",
      "pygments_lexer": "ipython3",
      "version": "3.10.12"
    }
  },
  "nbformat": 4,
  "nbformat_minor": 5
}
